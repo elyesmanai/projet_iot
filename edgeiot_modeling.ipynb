{
 "cells": [
  {
   "cell_type": "code",
   "execution_count": 1,
   "metadata": {},
   "outputs": [],
   "source": [
    "import pandas as pd\n",
    "from sklearn.model_selection import train_test_split\n",
    "from xgboost import XGBClassifier\n",
    "from sklearn.metrics import f1_score, accuracy_score, precision_score, recall_score, classification_report\n",
    "from tabulate import tabulate\n",
    "import warnings\n",
    "warnings.filterwarnings('ignore')\n",
    "from sklearn.ensemble import GradientBoostingClassifier\n",
    "from sklearn.neighbors import KNeighborsClassifier\n",
    "from sklearn.svm import SVC\n",
    "from sklearn.ensemble import RandomForestClassifier, AdaBoostClassifier, GradientBoostingClassifier\n",
    "from sklearn.tree import DecisionTreeClassifier\n",
    "from sklearn.neural_network import MLPClassifier\n",
    "from sklearn.linear_model import LogisticRegression\n",
    "from sklearn.naive_bayes import GaussianNB, BernoulliNB, MultinomialNB\n",
    "import warnings\n",
    "warnings.filterwarnings('ignore')\n",
    "\n",
    "from tabulate import tabulate\n",
    "\n",
    "from tqdm import tqdm\n",
    "\n",
    "import joblib\n",
    "\n",
    "from sklearn.cluster import KMeans, DBSCAN, Birch, AgglomerativeClustering, SpectralClustering, OPTICS, MeanShift, AffinityPropagation \n",
    "from sklearn.cluster import MeanShift, AffinityPropagation, DBSCAN\n",
    "import numpy as np"
   ]
  },
  {
   "cell_type": "markdown",
   "metadata": {},
   "source": [
    "## Supervised Learning"
   ]
  },
  {
   "cell_type": "markdown",
   "metadata": {},
   "source": [
    "### Binary"
   ]
  },
  {
   "cell_type": "code",
   "execution_count": 11,
   "metadata": {},
   "outputs": [],
   "source": [
    "df = pd.read_parquet('../archive/preprocessed_DNN.parquet')\n",
    "target = \"Attack_label\"\n",
    "to_drop = [\"Attack_type\", \"Attack_label\"]\n",
    "X_train, X_test, y_train, y_test = train_test_split(df.drop(to_drop, axis=1), df[target], test_size=0.2, random_state=42)"
   ]
  },
  {
   "cell_type": "code",
   "execution_count": 14,
   "metadata": {},
   "outputs": [
    {
     "name": "stderr",
     "output_type": "stream",
     "text": [
      "100%|██████████| 5/5 [20:47<00:00, 249.57s/it]"
     ]
    },
    {
     "name": "stdout",
     "output_type": "stream",
     "text": [
      "+---------+------------+-------------+----------+------------+\n",
      "| Model   |   Accuracy |   Precision |   Recall |   F1 Score |\n",
      "+=========+============+=============+==========+============+\n",
      "| xgb     |          1 |           1 |        1 |          1 |\n",
      "+---------+------------+-------------+----------+------------+\n",
      "| knn     |          1 |           1 |        1 |          1 |\n",
      "+---------+------------+-------------+----------+------------+\n",
      "| dt      |          1 |           1 |        1 |          1 |\n",
      "+---------+------------+-------------+----------+------------+\n",
      "| lr      |          1 |           1 |        1 |          1 |\n",
      "+---------+------------+-------------+----------+------------+\n",
      "| gnb     |          1 |           1 |        1 |          1 |\n",
      "+---------+------------+-------------+----------+------------+\n"
     ]
    },
    {
     "name": "stderr",
     "output_type": "stream",
     "text": [
      "\n"
     ]
    }
   ],
   "source": [
    "xgb = XGBClassifier(n_estimators=200, max_depth=5, learning_rate=0.05, objective='binary:logistic',tree_method='gpu_hist', random_state=42)\n",
    "knn = KNeighborsClassifier(n_neighbors=5)\n",
    "dt = DecisionTreeClassifier(random_state=42)\n",
    "lr = LogisticRegression(random_state=42)\n",
    "gnb = GaussianNB()\n",
    "\n",
    "models = [('xgb', xgb), ('knn', knn), ('dt', dt), ('lr', lr), ('gnb', gnb)]\n",
    "\n",
    "results = []\n",
    "for model_name, model in tqdm(models):\n",
    "    model.fit(X_train, y_train)\n",
    "    preds = model.predict(X_test)\n",
    "    accuracy = round(accuracy_score(y_test, preds), 3)\n",
    "    precision = round(precision_score(y_test, preds), 3)\n",
    "    recall = round(recall_score(y_test, preds), 3)\n",
    "    f1 = round(f1_score(y_test, preds, average='weighted'), 3)\n",
    "    results.append([model_name, accuracy, precision, recall, f1])\n",
    "    \n",
    "    joblib.dump(model, f'models/binary_{model_name}.joblib')\n",
    "    \n",
    "table = tabulate(results, headers=['Model', 'Accuracy', 'Precision', 'Recall', 'F1 Score'], tablefmt='grid')\n",
    "print(table)    "
   ]
  },
  {
   "cell_type": "markdown",
   "metadata": {},
   "source": [
    "### 15 multi class"
   ]
  },
  {
   "cell_type": "code",
   "execution_count": 2,
   "metadata": {},
   "outputs": [],
   "source": [
    "df = pd.read_parquet('../archive/preprocessed_DNN.parquet')\n",
    "target = \"Attack_type\"\n",
    "to_drop = [\"Attack_type\", \"Attack_label\"]\n",
    "X_train, X_test, y_train, y_test = train_test_split(df.drop(to_drop, axis=1), df[target], test_size=0.2, random_state=42)"
   ]
  },
  {
   "cell_type": "code",
   "execution_count": 3,
   "metadata": {},
   "outputs": [
    {
     "name": "stderr",
     "output_type": "stream",
     "text": [
      "100%|██████████| 5/5 [20:55<00:00, 251.06s/it]"
     ]
    },
    {
     "name": "stdout",
     "output_type": "stream",
     "text": [
      "+---------+------------+-------------+----------+------------+\n",
      "| Model   |   Accuracy |   Precision |   Recall |   F1 Score |\n",
      "+=========+============+=============+==========+============+\n",
      "| xgb     |      0.985 |       0.987 |    0.985 |      0.985 |\n",
      "+---------+------------+-------------+----------+------------+\n",
      "| knn     |      0.953 |       0.953 |    0.953 |      0.953 |\n",
      "+---------+------------+-------------+----------+------------+\n",
      "| dt      |      0.981 |       0.981 |    0.981 |      0.981 |\n",
      "+---------+------------+-------------+----------+------------+\n",
      "| lr      |      0.95  |       0.954 |    0.95  |      0.951 |\n",
      "+---------+------------+-------------+----------+------------+\n",
      "| gnb     |      0.902 |       0.942 |    0.902 |      0.89  |\n",
      "+---------+------------+-------------+----------+------------+\n"
     ]
    },
    {
     "name": "stderr",
     "output_type": "stream",
     "text": [
      "\n"
     ]
    }
   ],
   "source": [
    "xgb = XGBClassifier(n_estimators=200, max_depth=5, learning_rate=0.05, objective='multi:softmax',tree_method='gpu_hist', random_state=42)\n",
    "knn = KNeighborsClassifier(n_neighbors=5)\n",
    "dt = DecisionTreeClassifier(random_state=42)\n",
    "lr = LogisticRegression(random_state=42)\n",
    "gnb = GaussianNB()\n",
    "\n",
    "models = [('xgb', xgb), ('knn', knn), ('dt', dt), ('lr', lr), ('gnb', gnb)]\n",
    "\n",
    "results = []\n",
    "for model_name, model in tqdm(models):\n",
    "    model.fit(X_train, y_train)\n",
    "    preds = model.predict(X_test)\n",
    "    accuracy = round(accuracy_score(y_test, preds), 3)\n",
    "    precision = round(precision_score(y_test, preds, average='weighted'), 3)\n",
    "    recall = round(recall_score(y_test, preds, average='weighted'), 3)\n",
    "    f1 = round(f1_score(y_test, preds, average='weighted'), 3)\n",
    "    results.append([model_name, accuracy, precision, recall, f1])\n",
    "    \n",
    "    joblib.dump(model, f'models/multi_15_{model_name}.joblib')\n",
    "    \n",
    "table = tabulate(results, headers=['Model', 'Accuracy', 'Precision', 'Recall', 'F1 Score'], tablefmt='grid')\n",
    "print(table)    "
   ]
  },
  {
   "cell_type": "markdown",
   "metadata": {},
   "source": [
    "## Unsupervised Learning"
   ]
  },
  {
   "cell_type": "code",
   "execution_count": 7,
   "metadata": {},
   "outputs": [],
   "source": [
    "def tune_unsupervised_model(model_name, X, n_clusters):\n",
    "\n",
    "    def tune_meanshift(X, n_clusters):\n",
    "        bandwidth = 2.0\n",
    "        model = MeanShift(bandwidth=bandwidth)\n",
    "        attempts = 0\n",
    "        while attempts < 10:\n",
    "            print(attempts)\n",
    "            num_clusters = len(np.unique(model.fit_predict(X)))\n",
    "            if num_clusters == n_clusters:\n",
    "                return ('meanshift', model)\n",
    "            elif num_clusters < n_clusters:\n",
    "                bandwidth += 0.1\n",
    "            else:\n",
    "                bandwidth -= 0.1\n",
    "            model = MeanShift(bandwidth=bandwidth)\n",
    "            attempts += 1\n",
    "        return ('meanshift_no', model)\n",
    "    \n",
    "    def tune_affinity_propagation(X, n_clusters):\n",
    "        damping = 0.9\n",
    "        preference = -50\n",
    "        model = AffinityPropagation(damping=damping, preference=preference)\n",
    "        attempts = 0\n",
    "        while attempts < 10:\n",
    "            print(attempts)\n",
    "            num_clusters = len(np.unique(model.fit_predict(X)))\n",
    "            if num_clusters == n_clusters:\n",
    "                return ('affinity', model)\n",
    "            elif num_clusters < n_clusters:\n",
    "                damping += 0.1\n",
    "                preference -= 5\n",
    "            else:\n",
    "                damping -= 0.1\n",
    "                preference += 5\n",
    "            model = AffinityPropagation(damping=damping, preference=preference)\n",
    "            attempts += 1\n",
    "        return ('affinity_no', model)\n",
    "\n",
    "    def tune_dbscan(X, n_clusters):\n",
    "        epsilon = 0.5\n",
    "        min_samples = 5\n",
    "        model = DBSCAN(eps=epsilon, min_samples=min_samples)\n",
    "        attempts = 0\n",
    "        while attempts < 10:\n",
    "            print(attempts)\n",
    "            num_clusters = len(np.unique(model.fit_predict(X)))\n",
    "            if num_clusters == n_clusters:\n",
    "                return ('dbscan', model)\n",
    "            elif num_clusters < n_clusters:\n",
    "                epsilon += 0.1\n",
    "                min_samples += 1\n",
    "            else:\n",
    "                epsilon -= 0.1\n",
    "                min_samples -= 1\n",
    "            model = DBSCAN(eps=epsilon, min_samples=min_samples)\n",
    "            attempts += 1\n",
    "        return ('dbscan_no', model)\n",
    "\n",
    "    def tune_optics(X, n_clusters):\n",
    "        min_samples = 5\n",
    "        xi = 0.05\n",
    "        model = OPTICS(min_samples=min_samples, xi=xi)\n",
    "        attempts = 0\n",
    "        while attempts < 10:\n",
    "            print(attempts)\n",
    "            num_clusters = len(np.unique(model.fit_predict(X)))\n",
    "            if num_clusters == n_clusters:\n",
    "                return ('optics', model)\n",
    "            elif num_clusters < n_clusters:\n",
    "                min_samples += 1\n",
    "                xi += 0.01\n",
    "            else:\n",
    "                min_samples -= 1\n",
    "                xi -= 0.01\n",
    "            model = OPTICS(min_samples=min_samples, xi=xi)\n",
    "            attempts += 1\n",
    "        return ('optics_no', model)\n",
    "\n",
    "    # Map model names to tuning functions\n",
    "    tuning_functions = {\n",
    "        'MeanShift': tune_meanshift,\n",
    "        'AffinityPropagation': tune_affinity_propagation,\n",
    "        'DBSCAN': tune_dbscan,\n",
    "        'OPTICS': tune_optics\n",
    "    }\n",
    "\n",
    "    # Get the tuning function for the given model name\n",
    "    tuning_function = tuning_functions.get(model_name)\n",
    "\n",
    "    # If the tuning function exists, call it and return the result\n",
    "    if tuning_function:\n",
    "        return tuning_function(X,n_clusters)\n",
    "    else:\n",
    "        raise ValueError(f'No tuning function found for model name: {model_name}')"
   ]
  },
  {
   "cell_type": "code",
   "execution_count": 3,
   "metadata": {},
   "outputs": [],
   "source": [
    "def evaluate_unsupervised_model(model_name, model, X, y):\n",
    "    preds = model.fit_predict(X)\n",
    "    accuracy = round(accuracy_score(y, preds), 3)\n",
    "    precision = round(precision_score(y, preds), 3)\n",
    "    recall = round(recall_score(y, preds), 3)\n",
    "    f1 = round(f1_score(y, preds, average='weighted'), 3)\n",
    "    return [model_name, accuracy, precision, recall, f1]"
   ]
  },
  {
   "cell_type": "markdown",
   "metadata": {},
   "source": [
    "### Binary unsupervised"
   ]
  },
  {
   "cell_type": "code",
   "execution_count": 9,
   "metadata": {},
   "outputs": [],
   "source": [
    "df = pd.read_parquet('../archive/preprocessed_DNN.parquet')\n",
    "to_drop = [\"Attack_type\", \"Attack_label\"]\n",
    "X = df.drop(to_drop, axis=1)\n",
    "y = df[\"Attack_label\"]"
   ]
  },
  {
   "cell_type": "code",
   "execution_count": 7,
   "metadata": {},
   "outputs": [
    {
     "name": "stderr",
     "output_type": "stream",
     "text": [
      "100%|██████████| 2/2 [04:27<00:00, 133.91s/it]"
     ]
    },
    {
     "name": "stdout",
     "output_type": "stream",
     "text": [
      "+---------+------------+-------------+----------+------------+\n",
      "| Model   |   Accuracy |   Precision |   Recall |   F1 Score |\n",
      "+=========+============+=============+==========+============+\n",
      "| kmeans  |      0.673 |           0 |        0 |      0.577 |\n",
      "+---------+------------+-------------+----------+------------+\n",
      "| birch   |      0.716 |           0 |        0 |      0.598 |\n",
      "+---------+------------+-------------+----------+------------+\n"
     ]
    },
    {
     "name": "stderr",
     "output_type": "stream",
     "text": [
      "\n"
     ]
    }
   ],
   "source": [
    "kmeans = KMeans(n_clusters=2, random_state=42)\n",
    "birch = Birch(n_clusters=2)\n",
    "optics = OPTICS(min_samples=2)\n",
    "\n",
    "models = [(\"kmeans\", kmeans), (\"birch\", birch)]\n",
    "\n",
    "results = []\n",
    "for model_name, model in tqdm(models):  \n",
    "    model.fit(X)\n",
    "    preds = model.labels_\n",
    "    results.append(evaluate_unsupervised_model(model_name, model, X, y))\n",
    "    joblib.dump(model, f'models/unsupervised_binary_{model_name}.joblib')\n",
    "\n",
    "table = tabulate(results, headers=['Model', 'Accuracy', 'Precision', 'Recall', 'F1 Score'], tablefmt='grid')\n",
    "print(table)"
   ]
  },
  {
   "cell_type": "code",
   "execution_count": 10,
   "metadata": {},
   "outputs": [
    {
     "name": "stderr",
     "output_type": "stream",
     "text": [
      "  0%|          | 0/4 [00:00<?, ?it/s]"
     ]
    },
    {
     "name": "stdout",
     "output_type": "stream",
     "text": [
      "0\n"
     ]
    },
    {
     "ename": "",
     "evalue": "",
     "output_type": "error",
     "traceback": [
      "\u001b[1;31mThe Kernel crashed while executing code in the current cell or a previous cell. \n",
      "\u001b[1;31mPlease review the code in the cell(s) to identify a possible cause of the failure. \n",
      "\u001b[1;31mClick <a href='https://aka.ms/vscodeJupyterKernelCrash'>here</a> for more info. \n",
      "\u001b[1;31mView Jupyter <a href='command:jupyter.viewOutput'>log</a> for further details."
     ]
    }
   ],
   "source": [
    "results = []\n",
    "for model_name in tqdm(('DBSCAN', 'OPTICS', 'MeanShift', 'AffinityPropagation')):\n",
    "    model_name, model = tune_unsupervised_model(model_name, X, 2)\n",
    "    results.append(evaluate_unsupervised_model(model_name, model, X, y))\n",
    "    print(model.get_params())\n",
    "    joblib.dump(model, f'models/unsupervised_binary_{model_name}.joblib')\n",
    "\n",
    "table = tabulate(results, headers=['Model', 'Accuracy', 'Precision', 'Recall', 'F1 Score'], tablefmt='grid')\n",
    "print(table)"
   ]
  },
  {
   "cell_type": "markdown",
   "metadata": {},
   "source": [
    "### Multi Unsupervised"
   ]
  },
  {
   "cell_type": "code",
   "execution_count": 5,
   "metadata": {},
   "outputs": [],
   "source": [
    "df = pd.read_parquet('../archive/preprocessed_DNN.parquet')\n",
    "to_drop = [\"Attack_type\", \"Attack_label\"]\n",
    "X = df.drop(to_drop, axis=1)\n",
    "y = df[\"Attack_type\"]"
   ]
  },
  {
   "cell_type": "code",
   "execution_count": 12,
   "metadata": {},
   "outputs": [
    {
     "name": "stderr",
     "output_type": "stream",
     "text": [
      "100%|██████████| 2/2 [04:28<00:00, 134.01s/it]"
     ]
    },
    {
     "name": "stdout",
     "output_type": "stream",
     "text": [
      "+---------+------------+-------------+----------+------------+\n",
      "| Model   |   Accuracy |   Precision |   Recall |   F1 Score |\n",
      "+=========+============+=============+==========+============+\n",
      "| kmeans  |      0.001 |       0     |    0.001 |          0 |\n",
      "+---------+------------+-------------+----------+------------+\n",
      "| birch   |      0.012 |       0.027 |    0.012 |          0 |\n",
      "+---------+------------+-------------+----------+------------+\n"
     ]
    },
    {
     "name": "stderr",
     "output_type": "stream",
     "text": [
      "\n"
     ]
    }
   ],
   "source": [
    "kmeans = KMeans(n_clusters=15, random_state=42)\n",
    "birch = Birch(n_clusters=15)\n",
    "models = [(\"kmeans\", kmeans), (\"birch\", birch)]\n",
    "\n",
    "results = []\n",
    "for model_name, model in tqdm(models):\n",
    "    model.fit(X)\n",
    "    preds = model.labels_\n",
    "    preds = model.fit_predict(X)\n",
    "    accuracy = round(accuracy_score(y, preds), 3)\n",
    "    precision = round(precision_score(y, preds, average='weighted'), 3)\n",
    "    recall = round(recall_score(y, preds, average='weighted'), 3)\n",
    "    f1 = round(f1_score(y, preds, average='weighted'), 3)\n",
    "    results.append([model_name, accuracy, precision, recall, f1])\n",
    "    joblib.dump(model, f'models/unsupervised_multi_{model_name}.joblib')\n",
    "\n",
    "table = tabulate(results, headers=['Model', 'Accuracy', 'Precision', 'Recall', 'F1 Score'], tablefmt='grid')\n",
    "print(table)"
   ]
  },
  {
   "cell_type": "code",
   "execution_count": null,
   "metadata": {},
   "outputs": [],
   "source": [
    "results = []\n",
    "for model_name in ('DBSCAN', 'OPTICS', 'MeanShift', 'AffinityPropagation'):\n",
    "    model_name, model = tune_unsupervised_model(model_name, X, 15)\n",
    "    results.append(evaluate_unsupervised_model(model_name, model, X, y))\n",
    "    joblib.dump(model, f'models/unsupervised_multi_{model_name}.joblib')\n",
    "\n",
    "table = tabulate(results, headers=['Model', 'Accuracy', 'Precision', 'Recall', 'F1 Score'], tablefmt='grid')\n",
    "print(table)"
   ]
  },
  {
   "cell_type": "markdown",
   "metadata": {},
   "source": [
    "## Anomaly Detection"
   ]
  },
  {
   "cell_type": "code",
   "execution_count": 15,
   "metadata": {},
   "outputs": [],
   "source": [
    "df = pd.read_parquet('../archive/preprocessed_DNN.parquet')\n",
    "to_drop = [\"Attack_type\", \"Attack_label\"]\n",
    "X = df.drop(to_drop, axis=1)\n",
    "y = df[\"Attack_label\"]"
   ]
  },
  {
   "cell_type": "code",
   "execution_count": 18,
   "metadata": {},
   "outputs": [
    {
     "name": "stderr",
     "output_type": "stream",
     "text": [
      "\n",
      "\u001b[A\n",
      "\u001b[A"
     ]
    }
   ],
   "source": [
    "from sklearn.svm import OneClassSVM\n",
    "from sklearn.ensemble import IsolationForest\n",
    "\n",
    "\n",
    "ocsvm = OneClassSVM(nu=0.1)\n",
    "iso_forest = IsolationForest(contamination=0.1)\n",
    "results = []\n",
    "for model_name, model in tqdm([(\"iso_forest\",iso_forest), (\"ocsvm\",ocsvm)]):\n",
    "    model.fit(X)\n",
    "    preds = model.predict(X)\n",
    "    preds = [1 if i == -1 else 0 for i in preds]\n",
    "    accuracy = round(accuracy_score(y, preds), 3)\n",
    "    precision = round(precision_score(y, preds), 3)\n",
    "    recall = round(recall_score(y, preds), 3)\n",
    "    f1 = round(f1_score(y, preds, average='weighted'), 3)\n",
    "    results.append([model_name, accuracy, precision, recall, f1])\n",
    "    joblib.dump(model, f'models/anomaly_{model_name}.joblib')\n",
    "\n",
    "table = tabulate(results, headers=['Model', 'Accuracy', 'Precision', 'Recall', 'F1 Score'], tablefmt='grid')\n",
    "print(table) "
   ]
  }
 ],
 "metadata": {
  "kernelspec": {
   "display_name": "Python 3",
   "language": "python",
   "name": "python3"
  },
  "language_info": {
   "codemirror_mode": {
    "name": "ipython",
    "version": 3
   },
   "file_extension": ".py",
   "mimetype": "text/x-python",
   "name": "python",
   "nbconvert_exporter": "python",
   "pygments_lexer": "ipython3",
   "version": "3.10.10"
  }
 },
 "nbformat": 4,
 "nbformat_minor": 2
}

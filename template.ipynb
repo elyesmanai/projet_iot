{
 "cells": [
  {
   "cell_type": "code",
   "execution_count": null,
   "metadata": {},
   "outputs": [],
   "source": [
    "from sklearn.ensemble import GradientBoostingClassifier\n",
    "from sklearn.neighbors import KNeighborsClassifier\n",
    "from sklearn.svm import SVC\n",
    "from sklearn.ensemble import RandomForestClassifier, AdaBoostClassifier, GradientBoostingClassifier\n",
    "from sklearn.tree import DecisionTreeClassifier\n",
    "from sklearn.neural_network import MLPClassifier\n",
    "from sklearn.linear_model import LogisticRegression\n",
    "from sklearn.naive_bayes import GaussianNB, BernoulliNB, MultinomialNB\n",
    "from xgboost import XGBClassifier\n",
    "\n",
    "import pandas as pd\n",
    "\n",
    "from sklearn.metrics import f1_score, accuracy_score, precision_score, recall_score, classification_report\n",
    "from sklearn.metrics import confusion_matrix, ConfusionMatrixDisplay\n",
    "\n",
    "from sklearn.preprocessing import LabelEncoder\n",
    "\n",
    "import warnings\n",
    "warnings.filterwarnings('ignore')\n",
    "\n",
    "from tabulate import tabulate\n",
    "\n",
    "from tqdm import tqdm\n",
    "\n",
    "import joblib"
   ]
  },
  {
   "cell_type": "code",
   "execution_count": null,
   "metadata": {},
   "outputs": [],
   "source": [
    "train = pd.read_csv('train.csv')\n",
    "test = pd.read_csv('test.csv')\n",
    "\n",
    "X_train = train.drop(['id','attack_cat','label'], axis=1)\n",
    "y_train = train['label'] #0 is normal, 1 is attack\n",
    "\n",
    "X_test = test.drop(['id','attack_cat','label'], axis=1)\n",
    "y_test = test['label']\n",
    "\n",
    "X_train.shape\n"
   ]
  },
  {
   "cell_type": "code",
   "execution_count": null,
   "metadata": {},
   "outputs": [],
   "source": [
    "xgb = XGBClassifier(n_estimators=200, max_depth=5, learning_rate=0.05, objective='binary:logistic',tree_method='gpu_hist', random_state=42)\n",
    "knn = KNeighborsClassifier(n_neighbors=5)\n",
    "svm = SVC(kernel='rbf', random_state=42, probability=True, )\n",
    "dt = DecisionTreeClassifier(random_state=42)\n",
    "lr = LogisticRegression(random_state=42)\n",
    "gnb = GaussianNB(random_state=42)\n",
    "\n",
    "models = [('svm_proba', svm)]\n",
    "\n",
    "results = []\n",
    "for model_name, model in tqdm(models):\n",
    "    model.fit(X_train, y_train)\n",
    "    preds = model.predict(X_test)\n",
    "    accuracy = round(accuracy_score(y_test, preds), 3)\n",
    "    precision = round(precision_score(y_test, preds), 3)\n",
    "    recall = round(recall_score(y_test, preds), 3)\n",
    "    f1 = round(f1_score(y_test, preds, average='weighted'), 3)\n",
    "    results.append([model_name, accuracy, precision, recall, f1])\n",
    "    \n",
    "    joblib.dump(model, f'models/{model_name}.joblib')\n",
    "    \n",
    "table = tabulate(results, headers=['Model', 'Accuracy', 'Precision', 'Recall', 'F1 Score'], tablefmt='grid')\n",
    "print(table)    "
   ]
  }
 ],
 "metadata": {
  "language_info": {
   "name": "python"
  }
 },
 "nbformat": 4,
 "nbformat_minor": 2
}
